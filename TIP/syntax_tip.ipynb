{
 "metadata": {
  "language_info": {
   "codemirror_mode": {
    "name": "ipython",
    "version": 3
   },
   "file_extension": ".py",
   "mimetype": "text/x-python",
   "name": "python",
   "nbconvert_exporter": "python",
   "pygments_lexer": "ipython3",
   "version": 3
  },
  "orig_nbformat": 2,
  "kernelspec": {
   "name": "python_defaultSpec_1596260438754",
   "display_name": "Python 3.7.8 64-bit ('venv': venv)"
  }
 },
 "nbformat": 4,
 "nbformat_minor": 2,
 "cells": [
  {
   "cell_type": "markdown",
   "metadata": {},
   "source": [
    "# 놓치기 쉬운 파이썬 트릭\n",
    "- 기본 문법은 알겠는데 코드를 보면 뭔소린지 모르겠는 문법이 종종 튀어나온다?\n",
    "- Iterator? Comprehension? 그게 뭔데..."
   ]
  },
  {
   "cell_type": "markdown",
   "metadata": {},
   "source": [
    "## 리스트와 딕셔너리를 다시 보자"
   ]
  },
  {
   "cell_type": "code",
   "execution_count": 2,
   "metadata": {},
   "outputs": [],
   "source": [
    "first_list = [1,2,3,4,5,6,7,8,9,10]"
   ]
  },
  {
   "cell_type": "code",
   "execution_count": 3,
   "metadata": {
    "tags": []
   },
   "outputs": [
    {
     "output_type": "stream",
     "name": "stdout",
     "text": "[1, 3, 5, 7, 9]\n"
    }
   ],
   "source": [
    "# 홀수번째 데이터만 가져오고 싶다..(1,3,5,7,9)\n",
    "# 기본 방법\n",
    "even_list = []\n",
    "for idx, data in enumerate(first_list):\n",
    "    if idx % 2 == 0:\n",
    "        even_list.append(data)\n",
    "print(even_list)"
   ]
  },
  {
   "cell_type": "code",
   "execution_count": null,
   "metadata": {},
   "outputs": [],
   "source": []
  },
  {
   "cell_type": "markdown",
   "metadata": {},
   "source": [
    "## 파이썬은 리스트 슬라이싱을 지원함\n",
    "- 리스트는 `[start:end:term]` 의 형식으로 슬라이싱 가능\n",
    "- `start`: 해당 인덱스부터 시작, 작성 안하면 0\n",
    "- `end`: 해당 인덱스-1 까지, 작성 안하면 마지막 인덱스\n",
    "    - ex) `first_list[0:3]` -> 0번째 인덱스부터 2번째 인덱스까지 가져와라\n",
    "- 왜 end는 1 빼는거야?\n",
    "    - 만약 저런식으로 여러개 분리한다고 생각해봐. 분명 start와 end는 변수를 통해 반복적으로 사용할 거야.\n",
    "    - 반복 사용할 때, end에 들어간 값을 바로 start에 넣기 위함이지(== 데이터 편하게 쪼개기 위함)\n",
    "- `step`: `start`부터 `end`까지 가져오는데 `step` 칸만큼 이동하면서 가져와줘\n",
    "    - ex) `first_list[0:4:2]` -> 0~3까지 가져오는데 두칸씩 이동하면서 가져와라(`[1,3]`)\n",
    "\n",
    "- 결국 `first_list[::2]`는 처음부터 끝까지 가져오는데, 두칸씩 이동하면서 가져와달라고 하는 것"
   ]
  },
  {
   "cell_type": "code",
   "execution_count": 11,
   "metadata": {},
   "outputs": [
    {
     "output_type": "execute_result",
     "data": {
      "text/plain": "[1, 4, 9, 16, 25, 36, 49, 64, 81, 100]"
     },
     "metadata": {},
     "execution_count": 11
    }
   ],
   "source": [
    "# 리스트의 모든 원소를 제곱하고 싶다..\n",
    "# 기본적인 방법\n",
    "result = []\n",
    "for i in first_list:\n",
    "    tmp = i*i\n",
    "    result.append(tmp)\n",
    "result"
   ]
  },
  {
   "cell_type": "code",
   "execution_count": 13,
   "metadata": {},
   "outputs": [
    {
     "output_type": "execute_result",
     "data": {
      "text/plain": "[1, 4, 9, 16, 25, 36, 49, 64, 81, 100]"
     },
     "metadata": {},
     "execution_count": 13
    }
   ],
   "source": [
    "# 역시나 pythonic하지 않다..\n",
    "# 바꿔보자\n",
    "[i*i for i in first_list]  # ???????????????????????????????????"
   ]
  },
  {
   "cell_type": "markdown",
   "metadata": {},
   "source": [
    "## 파이썬은 Comprehension을 지원함\n",
    "- 파이썬에서 list, dictionary 등 반복 가능한 객체들에 동일한 작업을 할 일이 생각보다 많다(그냥 for문으로 처리하거나 추가로 if 들어간거)\n",
    "- 이걸 간단히 하기 위해 파이썬은 Comprehension을 지원하는데, 그냥 for문 한줄로 쓰는거라고 생각하면 편해\n",
    "- 실제로 for문보다 속도가 빨라"
   ]
  },
  {
   "cell_type": "code",
   "execution_count": 17,
   "metadata": {},
   "outputs": [
    {
     "output_type": "execute_result",
     "data": {
      "text/plain": "['2020/04/12파이썬', '2014/11/04파이썬', '2020/09/10파이썬', '2011/10/14파이썬']"
     },
     "metadata": {},
     "execution_count": 17
    }
   ],
   "source": [
    "# 예시\n",
    "# 아래 모든 데이터의 뒤에 \"파이썬\"이라는 문자열을 붙여보자\n",
    "tmp_data = [\"2020/04/12\", \"2014/11/04\", \"2020/09/10\", \"2011/10/14\"]\n",
    "\n",
    "for idx, i in enumerate(tmp_data):\n",
    "    tmp_data[idx] = i + \"파이썬\"\n",
    "tmp_data"
   ]
  },
  {
   "cell_type": "markdown",
   "metadata": {},
   "source": [
    "### 이렇게 그냥 for문으로 했을 때 놓치기 쉬운 점\n",
    "- 일단 pythonic하지 않음\n",
    "- 만약 for문 안에서 `i += i+\"파이썬\"`으로 썼다면 결과는 변경되지 않았을 것임\n",
    "- 실제 리스트랑 별개로 i라는 변수에 값만 받아왔기 때문에 i를 변경해도 tmp_data라는 리스트는 변경되지 않음(파이썬의 mutable/immutable)\n",
    "\n",
    "### 그럼 어떻게 해?\n",
    "- 이런 상황에 `comprehension`을 사용하는 거야\n",
    "- List comprehension은 list와 동일하게 `[]` 내부에 작성함\n",
    "    - 기본 문법은 `[i for i in data]`로, `for i in data:`와 동일함\n",
    "    - 가장 앞 부분에 각 원소에 수행하고 싶은 작업을 하면 됨\n",
    "        - ex) `[i*i for i in data]` -> data 리스트의 모든 원소를 제곱한 리스트를 반환해줘\n",
    "- Dictionary comprehension은 Dictionary와 동일하게 `{}` 내부에 작성함\n",
    "    - List comprehension과 동일하게 `{i:j for i, j in data.items()}` 형식임\n",
    "- 사실 list comprehension과 dictionary comprehension은 결과물이 list냐 dictionary냐의 차이일 뿐이기 때문에 내부에서 사용하는건 반복 가능한 객체는 뭐든 가능함\n",
    "    - ex) `data = [\"123\", \"1234\", \"12345\"]; {i: len(i) for i, j in data}`"
   ]
  },
  {
   "cell_type": "code",
   "execution_count": 20,
   "metadata": {},
   "outputs": [
    {
     "output_type": "execute_result",
     "data": {
      "text/plain": "['2020/04/12파이썬', '2014/11/04파이썬', '2020/09/10파이썬', '2011/10/14파이썬']"
     },
     "metadata": {},
     "execution_count": 20
    }
   ],
   "source": [
    "# 예시\n",
    "tmp_data = [\"2020/04/12\", \"2014/11/04\", \"2020/09/10\", \"2011/10/14\"]\n",
    "[i + \"파이썬\" for i in tmp_data]"
   ]
  },
  {
   "cell_type": "code",
   "execution_count": 22,
   "metadata": {},
   "outputs": [
    {
     "output_type": "execute_result",
     "data": {
      "text/plain": "['2020/04/12파이썬', '2020/09/10파이썬']"
     },
     "metadata": {},
     "execution_count": 22
    }
   ],
   "source": [
    "# Comprehension에 조건을 붙여보자\n",
    "# List 중 2020인 데이터만 추출해 보자\n",
    "[i + \"파이썬\" for i in tmp_data if i.startswith(\"2020\")]"
   ]
  },
  {
   "cell_type": "code",
   "execution_count": null,
   "metadata": {},
   "outputs": [],
   "source": []
  },
  {
   "cell_type": "code",
   "execution_count": 7,
   "metadata": {},
   "outputs": [
    {
     "output_type": "execute_result",
     "data": {
      "text/plain": "[1, 3, 5, 7, 9]"
     },
     "metadata": {},
     "execution_count": 7
    }
   ],
   "source": [
    "# 근데 코드가 Pythonic하지 않은 것 같고 길다...\n",
    "# 바꿔보자\n",
    "first_list[::2]  # 뭐임???????????????????????????????????"
   ]
  }
 ]
}